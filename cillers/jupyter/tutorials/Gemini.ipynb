{
 "cells": [
  {
   "cell_type": "code",
   "execution_count": 1,
   "id": "43fa8b54-078e-4a64-aa4e-bbeed29dd2f5",
   "metadata": {},
   "outputs": [
    {
     "name": "stdout",
     "output_type": "stream",
     "text": [
      "\u001b[33mWARNING: The directory '/home/jovyan/.cache/pip' or its parent directory is not owned or is not writable by the current user. The cache has been disabled. Check the permissions and owner of that directory. If executing pip with sudo, you should use sudo's -H flag.\u001b[0m\u001b[33m\n",
      "\u001b[0mNote: you may need to restart the kernel to use updated packages.\n"
     ]
    }
   ],
   "source": [
    "pip install --upgrade --quiet google-generativeai"
   ]
  },
  {
   "cell_type": "code",
   "execution_count": 8,
   "id": "41a67ca4-6ae4-4b0a-a01c-078386e27232",
   "metadata": {},
   "outputs": [],
   "source": [
    "import env\n",
    "env.load()"
   ]
  },
  {
   "cell_type": "code",
   "execution_count": 9,
   "id": "aedc02ba-bbd5-4fb2-8a5d-bab15140e849",
   "metadata": {},
   "outputs": [
    {
     "name": "stdout",
     "output_type": "stream",
     "text": [
      "Configuration error: GOOGLE_API_KEY environment variable is not set\n"
     ]
    }
   ],
   "source": [
    "import google.generativeai as genai\n",
    "import os\n",
    "\n",
    "def initialize_genai():\n",
    "    \"\"\"Initialize Google GenerativeAI with API key from environment variable.\"\"\"\n",
    "    api_key = os.environ.get(\"GOOGLE_API_KEY\")\n",
    "    if not api_key:\n",
    "        raise ValueError(\"GOOGLE_API_KEY environment variable is not set\")\n",
    "    genai.configure(api_key=api_key)\n",
    "\n",
    "def generate_text(prompt, model_name=\"gemini-pro\"):\n",
    "    \"\"\"Generate text using a specified model.\"\"\"\n",
    "    model = genai.GenerativeModel(model_name)\n",
    "    response = model.generate_content(prompt)\n",
    "    return response.text\n",
    "\n",
    "def main():\n",
    "    try:\n",
    "        # Initialize GenerativeAI\n",
    "        initialize_genai()\n",
    "        \n",
    "        # Example prompt\n",
    "        prompt = \"Explain the concept of machine learning in simple terms.\"\n",
    "        \n",
    "        # Generate response\n",
    "        response = generate_text(prompt)\n",
    "        print(f\"Prompt: {prompt}\")\n",
    "        print(f\"Response: {response}\")\n",
    "    except ValueError as e:\n",
    "        print(f\"Configuration error: {str(e)}\")\n",
    "    except Exception as e:\n",
    "        print(f\"An error occurred: {str(e)}\")\n",
    "\n",
    "if __name__ == \"__main__\":\n",
    "    main()"
   ]
  },
  {
   "cell_type": "code",
   "execution_count": null,
   "id": "c016cb4a-e8aa-492b-9a49-1b49d0a56ef2",
   "metadata": {},
   "outputs": [],
   "source": []
  }
 ],
 "metadata": {
  "kernelspec": {
   "display_name": "Python 3 (ipykernel)",
   "language": "python",
   "name": "python3"
  },
  "language_info": {
   "codemirror_mode": {
    "name": "ipython",
    "version": 3
   },
   "file_extension": ".py",
   "mimetype": "text/x-python",
   "name": "python",
   "nbconvert_exporter": "python",
   "pygments_lexer": "ipython3",
   "version": "3.11.6"
  }
 },
 "nbformat": 4,
 "nbformat_minor": 5
}
